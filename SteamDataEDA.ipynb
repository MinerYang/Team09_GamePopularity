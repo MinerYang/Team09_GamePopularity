{
 "cells": [
  {
   "cell_type": "code",
   "execution_count": 1,
   "metadata": {},
   "outputs": [
    {
     "data": {
      "text/plain": [
       "(27075, 18)"
      ]
     },
     "execution_count": 1,
     "metadata": {},
     "output_type": "execute_result"
    }
   ],
   "source": [
    "import pandas as pd\n",
    "import numpy as np\n",
    "data = pd.read_csv(\"/Users/mineryang/Desktop/steam-store-games/steam.csv\")\n",
    "data.shape"
   ]
  },
  {
   "cell_type": "code",
   "execution_count": 3,
   "metadata": {},
   "outputs": [],
   "source": [
    "df = data"
   ]
  },
  {
   "cell_type": "code",
   "execution_count": 4,
   "metadata": {},
   "outputs": [],
   "source": [
    "platform_set = set()\n",
    "for i in df.platforms.str.split(';'):\n",
    "    platform_set.update(i)\n",
    "platform_set\n",
    "\n",
    "platform_sets = df.platforms.str.split(';').apply(set)\n",
    "d = dict()\n",
    "d['windows'] = platform_sets.apply(lambda row: 'windows' in row)\n",
    "d['linux'] = platform_sets.apply(lambda row: 'linux' in row)\n",
    "d['mac'] = platform_sets.apply(lambda row: 'mac' in row)\n",
    "df = df.assign(**d)"
   ]
  },
  {
   "cell_type": "code",
   "execution_count": 5,
   "metadata": {},
   "outputs": [
    {
     "data": {
      "text/plain": [
       "(27075, 21)"
      ]
     },
     "execution_count": 5,
     "metadata": {},
     "output_type": "execute_result"
    }
   ],
   "source": [
    "df.shape"
   ]
  },
  {
   "cell_type": "code",
   "execution_count": 6,
   "metadata": {},
   "outputs": [],
   "source": [
    "genres_set = set()\n",
    "for i in df.genres.str.split(';'):\n",
    "    genres_set.update(i)\n",
    "genres_set\n",
    "\n",
    "d = dict()\n",
    "genre_sets = df.genres.str.split(';').apply(set)\n",
    "for genre in genres_set:\n",
    "    d[genre] = genre_sets.apply(lambda row: genre in row)\n",
    "df = df.assign(**d)"
   ]
  },
  {
   "cell_type": "code",
   "execution_count": 7,
   "metadata": {},
   "outputs": [
    {
     "data": {
      "text/plain": [
       "(27075, 50)"
      ]
     },
     "execution_count": 7,
     "metadata": {},
     "output_type": "execute_result"
    }
   ],
   "source": [
    "df.shape"
   ]
  },
  {
   "cell_type": "code",
   "execution_count": 8,
   "metadata": {},
   "outputs": [],
   "source": [
    "categories_set = set()\n",
    "for i in df.categories.str.split(';'):\n",
    "    categories_set.update(i)\n",
    "categories_set\n",
    "\n",
    "d = dict()\n",
    "category_set = df.categories.str.split(';').apply(set)\n",
    "for category in categories_set:\n",
    "    d[category] = category_set.apply(lambda row: category in row)\n",
    "df = df.assign(**d)"
   ]
  },
  {
   "cell_type": "code",
   "execution_count": 9,
   "metadata": {},
   "outputs": [
    {
     "data": {
      "text/plain": [
       "(27075, 79)"
      ]
     },
     "execution_count": 9,
     "metadata": {},
     "output_type": "execute_result"
    }
   ],
   "source": [
    "df.shape"
   ]
  },
  {
   "cell_type": "code",
   "execution_count": 11,
   "metadata": {},
   "outputs": [],
   "source": [
    "mask = df.owners.isin(['10000000-20000000', '20000000-50000000', '50000000-100000000', '100000000-200000000'])\n",
    "df.loc[mask, 'owners'] = 10\n",
    "\n",
    "df.loc[df.owners == '5000000-10000000', 'owners'] = 9\n",
    "df.loc[df.owners == '2000000-5000000', 'owners'] = 8\n",
    "df.loc[df.owners == '1000000-2000000', 'owners'] = 7\n",
    "df.loc[df.owners == '500000-1000000', 'owners'] = 6\n",
    "df.loc[df.owners == '200000-500000', 'owners'] = 5\n",
    "df.loc[df.owners == '100000-200000', 'owners'] = 4\n",
    "df.loc[df.owners == '50000-100000', 'owners'] = 3\n",
    "df.loc[df.owners == '20000-50000', 'owners'] = 2\n",
    "df.loc[df.owners == '0-20000', 'owners'] = 1"
   ]
  },
  {
   "cell_type": "code",
   "execution_count": 12,
   "metadata": {},
   "outputs": [
    {
     "data": {
      "text/plain": [
       "(27075, 79)"
      ]
     },
     "execution_count": 12,
     "metadata": {},
     "output_type": "execute_result"
    }
   ],
   "source": [
    "df.shape"
   ]
  },
  {
   "cell_type": "code",
   "execution_count": 13,
   "metadata": {},
   "outputs": [],
   "source": [
    "df['total_rating'] = df['positive_ratings'] + df['negative_ratings']\n",
    "df['ratings'] = df['positive_ratings'] / df['total_rating']"
   ]
  },
  {
   "cell_type": "code",
   "execution_count": 21,
   "metadata": {},
   "outputs": [
    {
     "data": {
      "text/plain": [
       "False"
      ]
     },
     "execution_count": 21,
     "metadata": {},
     "output_type": "execute_result"
    }
   ],
   "source": [
    "df['positive_ratings'].isnull().any()\n",
    "df['negative_ratings'].isnull().any()"
   ]
  },
  {
   "cell_type": "code",
   "execution_count": 14,
   "metadata": {},
   "outputs": [
    {
     "data": {
      "text/plain": [
       "(27075, 81)"
      ]
     },
     "execution_count": 14,
     "metadata": {},
     "output_type": "execute_result"
    }
   ],
   "source": [
    "df.shape"
   ]
  },
  {
   "cell_type": "code",
   "execution_count": 41,
   "metadata": {},
   "outputs": [
    {
     "data": {
      "text/plain": [
       "False"
      ]
     },
     "execution_count": 41,
     "metadata": {},
     "output_type": "execute_result"
    }
   ],
   "source": [
    "df['ratings'].isnull().any()"
   ]
  },
  {
   "cell_type": "code",
   "execution_count": 80,
   "metadata": {},
   "outputs": [
    {
     "data": {
      "text/html": [
       "<div>\n",
       "<style scoped>\n",
       "    .dataframe tbody tr th:only-of-type {\n",
       "        vertical-align: middle;\n",
       "    }\n",
       "\n",
       "    .dataframe tbody tr th {\n",
       "        vertical-align: top;\n",
       "    }\n",
       "\n",
       "    .dataframe thead th {\n",
       "        text-align: right;\n",
       "    }\n",
       "</style>\n",
       "<table border=\"1\" class=\"dataframe\">\n",
       "  <thead>\n",
       "    <tr style=\"text-align: right;\">\n",
       "      <th></th>\n",
       "      <th>appid</th>\n",
       "      <th>name</th>\n",
       "      <th>release_date</th>\n",
       "      <th>english</th>\n",
       "      <th>developer</th>\n",
       "      <th>publisher</th>\n",
       "      <th>platforms</th>\n",
       "      <th>required_age</th>\n",
       "      <th>categories</th>\n",
       "      <th>genres</th>\n",
       "      <th>...</th>\n",
       "      <th>Mods</th>\n",
       "      <th>Steam Turn Notifications</th>\n",
       "      <th>Local Multi-Player</th>\n",
       "      <th>Stats</th>\n",
       "      <th>Steam Leaderboards</th>\n",
       "      <th>total_rating</th>\n",
       "      <th>ratings</th>\n",
       "      <th>rating_level</th>\n",
       "      <th>rlev</th>\n",
       "      <th>level</th>\n",
       "    </tr>\n",
       "  </thead>\n",
       "  <tbody>\n",
       "  </tbody>\n",
       "</table>\n",
       "<p>0 rows × 84 columns</p>\n",
       "</div>"
      ],
      "text/plain": [
       "Empty DataFrame\n",
       "Columns: [appid, name, release_date, english, developer, publisher, platforms, required_age, categories, genres, steamspy_tags, achievements, positive_ratings, negative_ratings, average_playtime, median_playtime, owners, price, windows, linux, mac, Sexual Content, Simulation, Adventure, Utilities, Indie, Racing, Free to Play, Animation & Modeling, Design & Illustration, Tutorial, Strategy, Video Production, Accounting, Photo Editing, Web Publishing, Sports, RPG, Software Training, Audio Production, Early Access, Gore, Massively Multiplayer, Education, Casual, Nudity, Game Development, Violent, Documentary, Action, VR Support, Online Co-op, Shared/Split Screen, Online Multi-Player, Single-player, Captions available, MMO, Multi-player, Steam Cloud, Local Co-op, Includes Source SDK, Steam Achievements, Includes level editor, Co-op, Mods (require HL2), Steam Workshop, Full controller support, In-App Purchases, SteamVR Collectibles, Partial Controller Support, Steam Trading Cards, Cross-Platform Multiplayer, Commentary available, Valve Anti-Cheat enabled, Mods, Steam Turn Notifications, Local Multi-Player, Stats, Steam Leaderboards, total_rating, ratings, rating_level, rlev, level]\n",
       "Index: []\n",
       "\n",
       "[0 rows x 84 columns]"
      ]
     },
     "execution_count": 80,
     "metadata": {},
     "output_type": "execute_result"
    }
   ],
   "source": [
    "df.loc[df['ratings']<0]"
   ]
  },
  {
   "cell_type": "code",
   "execution_count": 23,
   "metadata": {},
   "outputs": [],
   "source": [
    "df.loc[df.ratings >=0.8, 'rating_level'] = 4\n",
    "df.loc[df.ratings >=0.7, 'rating_level'] = 3\n",
    "df.loc[df.ratings >=0.4, 'rating_level'] = 2\n",
    "df.loc[df.ratings >=0.2, 'rating_level'] = 1\n",
    "df.loc[df.ratings <0.2, 'rating_level'] = 0"
   ]
  },
  {
   "cell_type": "code",
   "execution_count": 24,
   "metadata": {},
   "outputs": [
    {
     "data": {
      "text/plain": [
       "(27075, 82)"
      ]
     },
     "execution_count": 24,
     "metadata": {},
     "output_type": "execute_result"
    }
   ],
   "source": [
    "df.shape"
   ]
  },
  {
   "cell_type": "code",
   "execution_count": 36,
   "metadata": {},
   "outputs": [
    {
     "data": {
      "text/plain": [
       "count    27075.000000\n",
       "mean         0.964875\n",
       "std          0.184098\n",
       "min          0.000000\n",
       "25%          1.000000\n",
       "50%          1.000000\n",
       "75%          1.000000\n",
       "max          1.000000\n",
       "Name: rating_level, dtype: float64"
      ]
     },
     "execution_count": 36,
     "metadata": {},
     "output_type": "execute_result"
    }
   ],
   "source": [
    "df['rating_level'].describe()"
   ]
  },
  {
   "cell_type": "code",
   "execution_count": 81,
   "metadata": {},
   "outputs": [],
   "source": [
    "bins= [float(\"-inf\"), 0.2, 0.4, 0.7, 0.8, 1]\n",
    "se1 = pd.cut(df['ratings'],bins)"
   ]
  },
  {
   "cell_type": "code",
   "execution_count": 82,
   "metadata": {},
   "outputs": [
    {
     "data": {
      "text/plain": [
       "(0.8, 1.0]     11526\n",
       "(0.4, 0.7]      7956\n",
       "(0.7, 0.8]      4660\n",
       "(0.2, 0.4]      1900\n",
       "(-inf, 0.2]     1033\n",
       "Name: ratings, dtype: int64"
      ]
     },
     "execution_count": 82,
     "metadata": {},
     "output_type": "execute_result"
    }
   ],
   "source": [
    "pd.value_counts(se1)"
   ]
  },
  {
   "cell_type": "code",
   "execution_count": 83,
   "metadata": {},
   "outputs": [],
   "source": [
    "bins= [float(\"-inf\"), 0.2, 0.4, 0.7, 0.8, 1]\n",
    "df['level'] =  pd.cut(df['ratings'],bins,labels=[1,2,3,4,5])"
   ]
  },
  {
   "cell_type": "code",
   "execution_count": 84,
   "metadata": {},
   "outputs": [
    {
     "data": {
      "text/plain": [
       "count     27075\n",
       "unique        5\n",
       "top           5\n",
       "freq      11526\n",
       "Name: level, dtype: int64"
      ]
     },
     "execution_count": 84,
     "metadata": {},
     "output_type": "execute_result"
    }
   ],
   "source": [
    "df['level'].describe()"
   ]
  },
  {
   "cell_type": "code",
   "execution_count": 87,
   "metadata": {},
   "outputs": [
    {
     "data": {
      "text/plain": [
       "(27075, 84)"
      ]
     },
     "execution_count": 87,
     "metadata": {},
     "output_type": "execute_result"
    }
   ],
   "source": [
    "df.shape"
   ]
  },
  {
   "cell_type": "code",
   "execution_count": 89,
   "metadata": {},
   "outputs": [],
   "source": [
    "df['level'] = df['level'].astype('int64')"
   ]
  },
  {
   "cell_type": "code",
   "execution_count": 92,
   "metadata": {},
   "outputs": [
    {
     "data": {
      "text/plain": [
       "count    27075.000000\n",
       "mean         6.078193\n",
       "std          7.874922\n",
       "min          0.000000\n",
       "25%          1.690000\n",
       "50%          3.990000\n",
       "75%          7.190000\n",
       "max        421.990000\n",
       "Name: price, dtype: float64"
      ]
     },
     "execution_count": 92,
     "metadata": {},
     "output_type": "execute_result"
    }
   ],
   "source": [
    "df['price'].describe()"
   ]
  },
  {
   "cell_type": "code",
   "execution_count": 93,
   "metadata": {},
   "outputs": [
    {
     "data": {
      "text/html": [
       "<div>\n",
       "<style scoped>\n",
       "    .dataframe tbody tr th:only-of-type {\n",
       "        vertical-align: middle;\n",
       "    }\n",
       "\n",
       "    .dataframe tbody tr th {\n",
       "        vertical-align: top;\n",
       "    }\n",
       "\n",
       "    .dataframe thead th {\n",
       "        text-align: right;\n",
       "    }\n",
       "</style>\n",
       "<table border=\"1\" class=\"dataframe\">\n",
       "  <thead>\n",
       "    <tr style=\"text-align: right;\">\n",
       "      <th></th>\n",
       "      <th>appid</th>\n",
       "      <th>name</th>\n",
       "      <th>release_date</th>\n",
       "      <th>english</th>\n",
       "      <th>developer</th>\n",
       "      <th>publisher</th>\n",
       "      <th>platforms</th>\n",
       "      <th>required_age</th>\n",
       "      <th>categories</th>\n",
       "      <th>genres</th>\n",
       "      <th>...</th>\n",
       "      <th>Mods</th>\n",
       "      <th>Steam Turn Notifications</th>\n",
       "      <th>Local Multi-Player</th>\n",
       "      <th>Stats</th>\n",
       "      <th>Steam Leaderboards</th>\n",
       "      <th>total_rating</th>\n",
       "      <th>ratings</th>\n",
       "      <th>rating_level</th>\n",
       "      <th>rlev</th>\n",
       "      <th>level</th>\n",
       "    </tr>\n",
       "  </thead>\n",
       "  <tbody>\n",
       "  </tbody>\n",
       "</table>\n",
       "<p>0 rows × 84 columns</p>\n",
       "</div>"
      ],
      "text/plain": [
       "Empty DataFrame\n",
       "Columns: [appid, name, release_date, english, developer, publisher, platforms, required_age, categories, genres, steamspy_tags, achievements, positive_ratings, negative_ratings, average_playtime, median_playtime, owners, price, windows, linux, mac, Sexual Content, Simulation, Adventure, Utilities, Indie, Racing, Free to Play, Animation & Modeling, Design & Illustration, Tutorial, Strategy, Video Production, Accounting, Photo Editing, Web Publishing, Sports, RPG, Software Training, Audio Production, Early Access, Gore, Massively Multiplayer, Education, Casual, Nudity, Game Development, Violent, Documentary, Action, VR Support, Online Co-op, Shared/Split Screen, Online Multi-Player, Single-player, Captions available, MMO, Multi-player, Steam Cloud, Local Co-op, Includes Source SDK, Steam Achievements, Includes level editor, Co-op, Mods (require HL2), Steam Workshop, Full controller support, In-App Purchases, SteamVR Collectibles, Partial Controller Support, Steam Trading Cards, Cross-Platform Multiplayer, Commentary available, Valve Anti-Cheat enabled, Mods, Steam Turn Notifications, Local Multi-Player, Stats, Steam Leaderboards, total_rating, ratings, rating_level, rlev, level]\n",
       "Index: []\n",
       "\n",
       "[0 rows x 84 columns]"
      ]
     },
     "execution_count": 93,
     "metadata": {},
     "output_type": "execute_result"
    }
   ],
   "source": [
    "df.loc[df['price']== np.nan]"
   ]
  },
  {
   "cell_type": "code",
   "execution_count": 104,
   "metadata": {},
   "outputs": [
    {
     "data": {
      "text/plain": [
       "(0.0, 10.0]       19593\n",
       "(10.0, 100.0]      4911\n",
       "(-inf, 0.0]        2560\n",
       "(100.0, 200.0]        8\n",
       "(200.0, 500.0]        3\n",
       "Name: price, dtype: int64"
      ]
     },
     "execution_count": 104,
     "metadata": {},
     "output_type": "execute_result"
    }
   ],
   "source": [
    "price_bins= [float(\"-inf\"),0 , 10, 100, 200,500]\n",
    "se2 = pd.cut(df['price'],price_bins)\n",
    "pd.value_counts(se2)"
   ]
  },
  {
   "cell_type": "code",
   "execution_count": 111,
   "metadata": {},
   "outputs": [],
   "source": [
    "price_bins= [float(\"-inf\"),0 , 10, 100, 200,500]\n",
    "df['price'] = pd.cut(df['price'],price_bins,labels=[1,2,3,4,5])"
   ]
  },
  {
   "cell_type": "code",
   "execution_count": 112,
   "metadata": {},
   "outputs": [
    {
     "data": {
      "text/plain": [
       "count     27075\n",
       "unique        5\n",
       "top           2\n",
       "freq      19593\n",
       "Name: price, dtype: int64"
      ]
     },
     "execution_count": 112,
     "metadata": {},
     "output_type": "execute_result"
    }
   ],
   "source": [
    "df['price'].describe()"
   ]
  },
  {
   "cell_type": "code",
   "execution_count": 113,
   "metadata": {},
   "outputs": [
    {
     "data": {
      "text/plain": [
       "(27075, 85)"
      ]
     },
     "execution_count": 113,
     "metadata": {},
     "output_type": "execute_result"
    }
   ],
   "source": [
    "df.shape"
   ]
  },
  {
   "cell_type": "code",
   "execution_count": 114,
   "metadata": {},
   "outputs": [
    {
     "data": {
      "text/plain": [
       "Index(['appid', 'name', 'release_date', 'english', 'developer', 'publisher',\n",
       "       'platforms', 'required_age', 'categories', 'genres', 'steamspy_tags',\n",
       "       'achievements', 'positive_ratings', 'negative_ratings',\n",
       "       'average_playtime', 'median_playtime', 'owners', 'price', 'windows',\n",
       "       'linux', 'mac', 'Sexual Content', 'Simulation', 'Adventure',\n",
       "       'Utilities', 'Indie', 'Racing', 'Free to Play', 'Animation & Modeling',\n",
       "       'Design & Illustration', 'Tutorial', 'Strategy', 'Video Production',\n",
       "       'Accounting', 'Photo Editing', 'Web Publishing', 'Sports', 'RPG',\n",
       "       'Software Training', 'Audio Production', 'Early Access', 'Gore',\n",
       "       'Massively Multiplayer', 'Education', 'Casual', 'Nudity',\n",
       "       'Game Development', 'Violent', 'Documentary', 'Action', 'VR Support',\n",
       "       'Online Co-op', 'Shared/Split Screen', 'Online Multi-Player',\n",
       "       'Single-player', 'Captions available', 'MMO', 'Multi-player',\n",
       "       'Steam Cloud', 'Local Co-op', 'Includes Source SDK',\n",
       "       'Steam Achievements', 'Includes level editor', 'Co-op',\n",
       "       'Mods (require HL2)', 'Steam Workshop', 'Full controller support',\n",
       "       'In-App Purchases', 'SteamVR Collectibles',\n",
       "       'Partial Controller Support', 'Steam Trading Cards',\n",
       "       'Cross-Platform Multiplayer', 'Commentary available',\n",
       "       'Valve Anti-Cheat enabled', 'Mods', 'Steam Turn Notifications',\n",
       "       'Local Multi-Player', 'Stats', 'Steam Leaderboards', 'total_rating',\n",
       "       'ratings', 'rating_level', 'rlev', 'level', 'price_level'],\n",
       "      dtype='object')"
      ]
     },
     "execution_count": 114,
     "metadata": {},
     "output_type": "execute_result"
    }
   ],
   "source": [
    "df.columns"
   ]
  },
  {
   "cell_type": "code",
   "execution_count": 117,
   "metadata": {},
   "outputs": [],
   "source": [
    "df1 = df.drop(columns=['appid', 'name', 'release_date', 'english', 'developer', 'publisher',\n",
    "                       'platforms', 'required_age', 'categories', 'genres', 'steamspy_tags',\n",
    "                       'achievements', 'positive_ratings', 'negative_ratings',\n",
    "                        'total_rating','ratings', 'rating_level', 'rlev','price_level'\n",
    "                      ])"
   ]
  },
  {
   "cell_type": "code",
   "execution_count": 118,
   "metadata": {},
   "outputs": [
    {
     "data": {
      "text/plain": [
       "(27075, 66)"
      ]
     },
     "execution_count": 118,
     "metadata": {},
     "output_type": "execute_result"
    }
   ],
   "source": [
    "df1.shape"
   ]
  },
  {
   "cell_type": "code",
   "execution_count": 120,
   "metadata": {},
   "outputs": [
    {
     "data": {
      "text/plain": [
       "Index(['average_playtime', 'median_playtime', 'owners', 'price', 'windows',\n",
       "       'linux', 'mac', 'Sexual Content', 'Simulation', 'Adventure',\n",
       "       'Utilities', 'Indie', 'Racing', 'Free to Play', 'Animation & Modeling',\n",
       "       'Design & Illustration', 'Tutorial', 'Strategy', 'Video Production',\n",
       "       'Accounting', 'Photo Editing', 'Web Publishing', 'Sports', 'RPG',\n",
       "       'Software Training', 'Audio Production', 'Early Access', 'Gore',\n",
       "       'Massively Multiplayer', 'Education', 'Casual', 'Nudity',\n",
       "       'Game Development', 'Violent', 'Documentary', 'Action', 'VR Support',\n",
       "       'Online Co-op', 'Shared/Split Screen', 'Online Multi-Player',\n",
       "       'Single-player', 'Captions available', 'MMO', 'Multi-player',\n",
       "       'Steam Cloud', 'Local Co-op', 'Includes Source SDK',\n",
       "       'Steam Achievements', 'Includes level editor', 'Co-op',\n",
       "       'Mods (require HL2)', 'Steam Workshop', 'Full controller support',\n",
       "       'In-App Purchases', 'SteamVR Collectibles',\n",
       "       'Partial Controller Support', 'Steam Trading Cards',\n",
       "       'Cross-Platform Multiplayer', 'Commentary available',\n",
       "       'Valve Anti-Cheat enabled', 'Mods', 'Steam Turn Notifications',\n",
       "       'Local Multi-Player', 'Stats', 'Steam Leaderboards', 'level'],\n",
       "      dtype='object')"
      ]
     },
     "execution_count": 120,
     "metadata": {},
     "output_type": "execute_result"
    }
   ],
   "source": [
    "df1.columns"
   ]
  },
  {
   "cell_type": "code",
   "execution_count": 125,
   "metadata": {},
   "outputs": [
    {
     "data": {
      "text/plain": [
       "average_playtime            False\n",
       "median_playtime             False\n",
       "owners                      False\n",
       "price                       False\n",
       "windows                     False\n",
       "                            ...  \n",
       "Steam Turn Notifications    False\n",
       "Local Multi-Player          False\n",
       "Stats                       False\n",
       "Steam Leaderboards          False\n",
       "level                       False\n",
       "Length: 66, dtype: bool"
      ]
     },
     "execution_count": 125,
     "metadata": {},
     "output_type": "execute_result"
    }
   ],
   "source": [
    "df1.isnull().any()"
   ]
  },
  {
   "cell_type": "code",
   "execution_count": 134,
   "metadata": {},
   "outputs": [
    {
     "data": {
      "text/plain": [
       "Index(['average_playtime', 'median_playtime', 'owners', 'price', 'windows',\n",
       "       'linux', 'mac', 'Sexual Content', 'Simulation', 'Adventure',\n",
       "       'Utilities', 'Indie', 'Racing', 'Free to Play', 'Animation & Modeling',\n",
       "       'Design & Illustration', 'Tutorial', 'Strategy', 'Video Production',\n",
       "       'Accounting', 'Photo Editing', 'Web Publishing', 'Sports', 'RPG',\n",
       "       'Software Training', 'Audio Production', 'Early Access', 'Gore',\n",
       "       'Massively Multiplayer', 'Education', 'Casual', 'Nudity',\n",
       "       'Game Development', 'Violent', 'Documentary', 'Action', 'VR Support',\n",
       "       'Online Co-op', 'Shared/Split Screen', 'Online Multi-Player',\n",
       "       'Single-player', 'Captions available', 'MMO', 'Multi-player',\n",
       "       'Steam Cloud', 'Local Co-op', 'Includes Source SDK',\n",
       "       'Steam Achievements', 'Includes level editor', 'Co-op',\n",
       "       'Mods (require HL2)', 'Steam Workshop', 'Full controller support',\n",
       "       'In-App Purchases', 'SteamVR Collectibles',\n",
       "       'Partial Controller Support', 'Steam Trading Cards',\n",
       "       'Cross-Platform Multiplayer', 'Commentary available',\n",
       "       'Valve Anti-Cheat enabled', 'Mods', 'Steam Turn Notifications',\n",
       "       'Local Multi-Player', 'Stats', 'Steam Leaderboards', 'level'],\n",
       "      dtype='object')"
      ]
     },
     "execution_count": 134,
     "metadata": {},
     "output_type": "execute_result"
    }
   ],
   "source": [
    "df1.columns"
   ]
  },
  {
   "cell_type": "code",
   "execution_count": 135,
   "metadata": {},
   "outputs": [],
   "source": [
    "df2 = df1.drop(columns=['average_playtime', 'median_playtime'])"
   ]
  },
  {
   "cell_type": "code",
   "execution_count": 138,
   "metadata": {},
   "outputs": [
    {
     "data": {
      "text/plain": [
       "(27075, 64)"
      ]
     },
     "execution_count": 138,
     "metadata": {},
     "output_type": "execute_result"
    }
   ],
   "source": [
    "df2.shape"
   ]
  },
  {
   "cell_type": "code",
   "execution_count": 139,
   "metadata": {},
   "outputs": [],
   "source": [
    "df2.to_csv(\"/Users/mineryang/Desktop/steam-store-games/EDAdata.csv\", index=False)"
   ]
  },
  {
   "cell_type": "code",
   "execution_count": 161,
   "metadata": {},
   "outputs": [
    {
     "data": {
      "text/plain": [
       "(27075, 64)"
      ]
     },
     "execution_count": 161,
     "metadata": {},
     "output_type": "execute_result"
    }
   ],
   "source": [
    "rd = pd.read_csv(\"/Users/mineryang/Desktop/steam-store-games/EDAdata.csv\")\n",
    "rd.shape"
   ]
  },
  {
   "cell_type": "code",
   "execution_count": 162,
   "metadata": {},
   "outputs": [
    {
     "data": {
      "text/html": [
       "<div>\n",
       "<style scoped>\n",
       "    .dataframe tbody tr th:only-of-type {\n",
       "        vertical-align: middle;\n",
       "    }\n",
       "\n",
       "    .dataframe tbody tr th {\n",
       "        vertical-align: top;\n",
       "    }\n",
       "\n",
       "    .dataframe thead th {\n",
       "        text-align: right;\n",
       "    }\n",
       "</style>\n",
       "<table border=\"1\" class=\"dataframe\">\n",
       "  <thead>\n",
       "    <tr style=\"text-align: right;\">\n",
       "      <th></th>\n",
       "      <th>owners</th>\n",
       "      <th>price</th>\n",
       "      <th>windows</th>\n",
       "      <th>linux</th>\n",
       "      <th>mac</th>\n",
       "      <th>Sexual Content</th>\n",
       "      <th>Simulation</th>\n",
       "      <th>Adventure</th>\n",
       "      <th>Utilities</th>\n",
       "      <th>Indie</th>\n",
       "      <th>...</th>\n",
       "      <th>Steam Trading Cards</th>\n",
       "      <th>Cross-Platform Multiplayer</th>\n",
       "      <th>Commentary available</th>\n",
       "      <th>Valve Anti-Cheat enabled</th>\n",
       "      <th>Mods</th>\n",
       "      <th>Steam Turn Notifications</th>\n",
       "      <th>Local Multi-Player</th>\n",
       "      <th>Stats</th>\n",
       "      <th>Steam Leaderboards</th>\n",
       "      <th>level</th>\n",
       "    </tr>\n",
       "  </thead>\n",
       "  <tbody>\n",
       "    <tr>\n",
       "      <td>0</td>\n",
       "      <td>10</td>\n",
       "      <td>2</td>\n",
       "      <td>True</td>\n",
       "      <td>True</td>\n",
       "      <td>True</td>\n",
       "      <td>False</td>\n",
       "      <td>False</td>\n",
       "      <td>False</td>\n",
       "      <td>False</td>\n",
       "      <td>False</td>\n",
       "      <td>...</td>\n",
       "      <td>False</td>\n",
       "      <td>False</td>\n",
       "      <td>False</td>\n",
       "      <td>True</td>\n",
       "      <td>False</td>\n",
       "      <td>False</td>\n",
       "      <td>True</td>\n",
       "      <td>False</td>\n",
       "      <td>False</td>\n",
       "      <td>5</td>\n",
       "    </tr>\n",
       "    <tr>\n",
       "      <td>1</td>\n",
       "      <td>9</td>\n",
       "      <td>2</td>\n",
       "      <td>True</td>\n",
       "      <td>True</td>\n",
       "      <td>True</td>\n",
       "      <td>False</td>\n",
       "      <td>False</td>\n",
       "      <td>False</td>\n",
       "      <td>False</td>\n",
       "      <td>False</td>\n",
       "      <td>...</td>\n",
       "      <td>False</td>\n",
       "      <td>False</td>\n",
       "      <td>False</td>\n",
       "      <td>True</td>\n",
       "      <td>False</td>\n",
       "      <td>False</td>\n",
       "      <td>True</td>\n",
       "      <td>False</td>\n",
       "      <td>False</td>\n",
       "      <td>5</td>\n",
       "    </tr>\n",
       "    <tr>\n",
       "      <td>2</td>\n",
       "      <td>9</td>\n",
       "      <td>2</td>\n",
       "      <td>True</td>\n",
       "      <td>True</td>\n",
       "      <td>True</td>\n",
       "      <td>False</td>\n",
       "      <td>False</td>\n",
       "      <td>False</td>\n",
       "      <td>False</td>\n",
       "      <td>False</td>\n",
       "      <td>...</td>\n",
       "      <td>False</td>\n",
       "      <td>False</td>\n",
       "      <td>False</td>\n",
       "      <td>True</td>\n",
       "      <td>False</td>\n",
       "      <td>False</td>\n",
       "      <td>False</td>\n",
       "      <td>False</td>\n",
       "      <td>False</td>\n",
       "      <td>5</td>\n",
       "    </tr>\n",
       "    <tr>\n",
       "      <td>3</td>\n",
       "      <td>9</td>\n",
       "      <td>2</td>\n",
       "      <td>True</td>\n",
       "      <td>True</td>\n",
       "      <td>True</td>\n",
       "      <td>False</td>\n",
       "      <td>False</td>\n",
       "      <td>False</td>\n",
       "      <td>False</td>\n",
       "      <td>False</td>\n",
       "      <td>...</td>\n",
       "      <td>False</td>\n",
       "      <td>False</td>\n",
       "      <td>False</td>\n",
       "      <td>True</td>\n",
       "      <td>False</td>\n",
       "      <td>False</td>\n",
       "      <td>True</td>\n",
       "      <td>False</td>\n",
       "      <td>False</td>\n",
       "      <td>5</td>\n",
       "    </tr>\n",
       "    <tr>\n",
       "      <td>4</td>\n",
       "      <td>9</td>\n",
       "      <td>2</td>\n",
       "      <td>True</td>\n",
       "      <td>True</td>\n",
       "      <td>True</td>\n",
       "      <td>False</td>\n",
       "      <td>False</td>\n",
       "      <td>False</td>\n",
       "      <td>False</td>\n",
       "      <td>False</td>\n",
       "      <td>...</td>\n",
       "      <td>False</td>\n",
       "      <td>False</td>\n",
       "      <td>False</td>\n",
       "      <td>True</td>\n",
       "      <td>False</td>\n",
       "      <td>False</td>\n",
       "      <td>False</td>\n",
       "      <td>False</td>\n",
       "      <td>False</td>\n",
       "      <td>5</td>\n",
       "    </tr>\n",
       "  </tbody>\n",
       "</table>\n",
       "<p>5 rows × 64 columns</p>\n",
       "</div>"
      ],
      "text/plain": [
       "   owners  price  windows  linux   mac  Sexual Content  Simulation  Adventure  \\\n",
       "0      10      2     True   True  True           False       False      False   \n",
       "1       9      2     True   True  True           False       False      False   \n",
       "2       9      2     True   True  True           False       False      False   \n",
       "3       9      2     True   True  True           False       False      False   \n",
       "4       9      2     True   True  True           False       False      False   \n",
       "\n",
       "   Utilities  Indie  ...  Steam Trading Cards  Cross-Platform Multiplayer  \\\n",
       "0      False  False  ...                False                       False   \n",
       "1      False  False  ...                False                       False   \n",
       "2      False  False  ...                False                       False   \n",
       "3      False  False  ...                False                       False   \n",
       "4      False  False  ...                False                       False   \n",
       "\n",
       "   Commentary available  Valve Anti-Cheat enabled   Mods  \\\n",
       "0                 False                      True  False   \n",
       "1                 False                      True  False   \n",
       "2                 False                      True  False   \n",
       "3                 False                      True  False   \n",
       "4                 False                      True  False   \n",
       "\n",
       "   Steam Turn Notifications  Local Multi-Player  Stats  Steam Leaderboards  \\\n",
       "0                     False                True  False               False   \n",
       "1                     False                True  False               False   \n",
       "2                     False               False  False               False   \n",
       "3                     False                True  False               False   \n",
       "4                     False               False  False               False   \n",
       "\n",
       "   level  \n",
       "0      5  \n",
       "1      5  \n",
       "2      5  \n",
       "3      5  \n",
       "4      5  \n",
       "\n",
       "[5 rows x 64 columns]"
      ]
     },
     "execution_count": 162,
     "metadata": {},
     "output_type": "execute_result"
    }
   ],
   "source": [
    "rd.head()"
   ]
  },
  {
   "cell_type": "code",
   "execution_count": 156,
   "metadata": {},
   "outputs": [
    {
     "data": {
      "text/plain": [
       "dtype('int64')"
      ]
     },
     "execution_count": 156,
     "metadata": {},
     "output_type": "execute_result"
    }
   ],
   "source": [
    "df2['owners'].dtypes"
   ]
  },
  {
   "cell_type": "code",
   "execution_count": null,
   "metadata": {},
   "outputs": [],
   "source": []
  }
 ],
 "metadata": {
  "kernelspec": {
   "display_name": "Python 3",
   "language": "python",
   "name": "python3"
  },
  "language_info": {
   "codemirror_mode": {
    "name": "ipython",
    "version": 3
   },
   "file_extension": ".py",
   "mimetype": "text/x-python",
   "name": "python",
   "nbconvert_exporter": "python",
   "pygments_lexer": "ipython3",
   "version": "3.7.4"
  }
 },
 "nbformat": 4,
 "nbformat_minor": 2
}
