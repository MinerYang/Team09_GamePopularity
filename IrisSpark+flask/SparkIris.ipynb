{
 "cells": [
  {
   "cell_type": "code",
   "execution_count": 1,
   "metadata": {},
   "outputs": [],
   "source": [
    "import os\n",
    "os.environ['JAVA_HOME'] = '/Library/Java/JavaVirtualMachines/jdk1.8.0_221.jdk/Contents/Home'"
   ]
  },
  {
   "cell_type": "code",
   "execution_count": 2,
   "metadata": {},
   "outputs": [
    {
     "name": "stdout",
     "output_type": "stream",
     "text": [
      "/Library/Java/JavaVirtualMachines/jdk1.8.0_221.jdk/Contents/Home\r\n"
     ]
    }
   ],
   "source": [
    "! echo $JAVA_HOME"
   ]
  },
  {
   "cell_type": "code",
   "execution_count": 3,
   "metadata": {},
   "outputs": [],
   "source": [
    "import pyspark as ps\n",
    "from pyspark import SparkContext\n",
    "from pyspark.ml import PipelineModel\n",
    "from pyspark.sql import functions as f\n",
    "from pyspark.sql import types as t\n",
    "import numpy as np\n",
    "import pandas as pd"
   ]
  },
  {
   "cell_type": "code",
   "execution_count": 4,
   "metadata": {},
   "outputs": [],
   "source": [
    "# sc = ps.SparkContext(appName = 'test2app')"
   ]
  },
  {
   "cell_type": "code",
   "execution_count": 5,
   "metadata": {},
   "outputs": [],
   "source": [
    "# create a SparkContext\n",
    "# load saved pipeline model from the folder 'model'\n",
    "sc = ps.SparkContext()\n",
    "sqlContext = ps.sql.SQLContext(sc)\n",
    "loadedModel = PipelineModel.load(\"/Users/mineryang/Desktop/PipelineIrisModel2\")"
   ]
  },
  {
   "cell_type": "code",
   "execution_count": 6,
   "metadata": {},
   "outputs": [],
   "source": [
    "schema = t.StructType(\n",
    "    [\n",
    "        t.StructField(\"SepalLengthCm\",t.DoubleType()),\n",
    "        t.StructField(\"SepalWidthCm\",t.DoubleType()),\n",
    "        t.StructField(\"PetalLengthCm\",t.DoubleType()),\n",
    "        t.StructField(\"PetalWidthCm\",t.DoubleType()),\n",
    "    ]\n",
    ")"
   ]
  },
  {
   "cell_type": "code",
   "execution_count": 7,
   "metadata": {},
   "outputs": [],
   "source": [
    "user_input = {\n",
    "    'SepalLengthCm':5.2,\n",
    "    'SepalWidthCm':2.7,\n",
    "    'PetalLengthCm':3.9,\n",
    "    'PetalWidthCm':1.4\n",
    "}\n",
    "\n",
    "testdf=sqlContext.createDataFrame([user_input],schema)"
   ]
  },
  {
   "cell_type": "code",
   "execution_count": 8,
   "metadata": {},
   "outputs": [
    {
     "name": "stdout",
     "output_type": "stream",
     "text": [
      "Iris-versicolor\n"
     ]
    }
   ],
   "source": [
    "prediction = loadedModel.transform(testdf)\n",
    "prediction_label = prediction.select(prediction['predictedLabel']).collect()\n",
    "res = [r['predictedLabel'] for r in prediction_label][0]\n",
    "print(res)"
   ]
  },
  {
   "cell_type": "code",
   "execution_count": 9,
   "metadata": {},
   "outputs": [],
   "source": [
    "from flask import Flask\n",
    "from flask import request, redirect, url_for\n",
    "from flask_cors import CORS\n",
    "from flask_restful import reqparse, abort, Api, Resource\n",
    "\n",
    "# create a Flask instance\n",
    "app = Flask(__name__)\n",
    "CORS(app)\n",
    "api = Api(app)"
   ]
  },
  {
   "cell_type": "code",
   "execution_count": 10,
   "metadata": {},
   "outputs": [
    {
     "data": {
      "text/plain": [
       "<flask_restful.reqparse.RequestParser at 0x11b52c710>"
      ]
     },
     "execution_count": 10,
     "metadata": {},
     "output_type": "execute_result"
    }
   ],
   "source": [
    "# create a parser\n",
    "# fill a parser with information about arguments \n",
    "parser = reqparse.RequestParser()\n",
    "parser.add_argument(\"sepal_length\",type=float)\n",
    "parser.add_argument(\"sepal_width\",type=float)\n",
    "parser.add_argument(\"petal_length\",type=float)\n",
    "parser.add_argument(\"petal_width\",type=float)"
   ]
  },
  {
   "cell_type": "code",
   "execution_count": 11,
   "metadata": {},
   "outputs": [
    {
     "name": "stdout",
     "output_type": "stream",
     "text": [
      " * Serving Flask app \"__main__\" (lazy loading)\n",
      " * Environment: production\n",
      "   WARNING: This is a development server. Do not use it in a production deployment.\n",
      "   Use a production WSGI server instead.\n",
      " * Debug mode: on\n"
     ]
    },
    {
     "name": "stderr",
     "output_type": "stream",
     "text": [
      " * Running on http://127.0.0.1:5000/ (Press CTRL+C to quit)\n"
     ]
    },
    {
     "name": "stdout",
     "output_type": "stream",
     "text": [
      "3.5\n"
     ]
    },
    {
     "name": "stderr",
     "output_type": "stream",
     "text": [
      "127.0.0.1 - - [08/Apr/2020 15:41:58] \"POST /predict HTTP/1.1\" 200 -\n"
     ]
    },
    {
     "name": "stdout",
     "output_type": "stream",
     "text": [
      "Iris-virginica\n"
     ]
    },
    {
     "name": "stderr",
     "output_type": "stream",
     "text": [
      "127.0.0.1 - - [08/Apr/2020 15:42:08] \"OPTIONS /predict HTTP/1.1\" 200 -\n",
      "127.0.0.1 - - [08/Apr/2020 15:42:08] \"POST /predict HTTP/1.1\" 200 -\n"
     ]
    },
    {
     "name": "stdout",
     "output_type": "stream",
     "text": [
      "1.0\n",
      "Iris-setosa\n"
     ]
    }
   ],
   "source": [
    "@app.route('/')\n",
    "def index():\n",
    "    return \"welcome\"\n",
    "\n",
    "@app.route('/predict',methods=['GET', 'POST'])\n",
    "def predict():\n",
    "    if request.method == 'POST':\n",
    "        args = parser.parse_args()\n",
    "        sl = args[\"sepal_length\"]\n",
    "        sw = args[\"sepal_width\"]\n",
    "        pl = args[\"petal_length\"]\n",
    "        pw = args[\"petal_width\"]\n",
    "        \n",
    "        X = {\n",
    "            'SepalLengthCm':sl,\n",
    "            'SepalWidthCm':sw,\n",
    "            'PetalLengthCm':pl,\n",
    "            'PetalWidthCm':pw\n",
    "        }\n",
    "        print(args['sepal_length'])\n",
    "        df=sqlContext.createDataFrame([X],schema)\n",
    "        prediction = loadedModel.transform(df)\n",
    "        prediction_label = prediction.select(prediction['predictedLabel']).collect()\n",
    "        res = [r['predictedLabel'] for r in prediction_label][0]\n",
    "        print(res)\n",
    "        return res\n",
    "    else:\n",
    "        return \"in get situation\"\n",
    "\n",
    "if __name__ == \"__main__\":\n",
    "    app.run(debug=True, use_reloader=False)"
   ]
  },
  {
   "cell_type": "code",
   "execution_count": null,
   "metadata": {},
   "outputs": [],
   "source": []
  }
 ],
 "metadata": {
  "kernelspec": {
   "display_name": "Python 3",
   "language": "python",
   "name": "python3"
  },
  "language_info": {
   "codemirror_mode": {
    "name": "ipython",
    "version": 3
   },
   "file_extension": ".py",
   "mimetype": "text/x-python",
   "name": "python",
   "nbconvert_exporter": "python",
   "pygments_lexer": "ipython3",
   "version": "3.7.4"
  }
 },
 "nbformat": 4,
 "nbformat_minor": 2
}
