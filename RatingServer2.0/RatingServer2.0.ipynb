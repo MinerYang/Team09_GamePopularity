{
 "cells": [
  {
   "cell_type": "code",
   "execution_count": 1,
   "metadata": {},
   "outputs": [],
   "source": [
    "import os\n",
    "os.environ['JAVA_HOME'] = '/Library/Java/JavaVirtualMachines/jdk1.8.0_221.jdk/Contents/Home'"
   ]
  },
  {
   "cell_type": "code",
   "execution_count": 2,
   "metadata": {},
   "outputs": [],
   "source": [
    "import pyspark as ps\n",
    "from pyspark import SparkContext\n",
    "from pyspark.ml import Pipeline,PipelineModel\n",
    "from pyspark.sql import functions as f\n",
    "from pyspark.sql import types as t\n",
    "from pyspark.sql import SparkSession\n",
    "import numpy as np\n",
    "import pandas as pd\n",
    "from pyspark.sql import SparkSession\n",
    "from pyspark.ml.evaluation import MulticlassClassificationEvaluator"
   ]
  },
  {
   "cell_type": "code",
   "execution_count": 3,
   "metadata": {},
   "outputs": [],
   "source": [
    "# load a pipeline\n",
    "path = \"/Users/mineryang/Desktop/Team09_GamePopularity/RatingModelTraining/my_pipeline\"\n",
    "pipeline = Pipeline.load(path)"
   ]
  },
  {
   "cell_type": "code",
   "execution_count": 4,
   "metadata": {},
   "outputs": [],
   "source": [
    "ss = SparkSession \\\n",
    "    .builder \\\n",
    "    .appName(\"ServerTraing\") \\\n",
    "    .config(\"spark.some.config.option\", \"some-value\") \\\n",
    "    .getOrCreate()"
   ]
  },
  {
   "cell_type": "code",
   "execution_count": 5,
   "metadata": {},
   "outputs": [],
   "source": [
    "class MyModel:\n",
    "    def __init__(self, newmodel, accuracy):\n",
    "        self.newmodel = newmodel\n",
    "        self.accuracy = accuracy"
   ]
  },
  {
   "cell_type": "code",
   "execution_count": 6,
   "metadata": {},
   "outputs": [],
   "source": [
    "# training a new model\n",
    "def trainNew(p1,p2):\n",
    "    print(\"begin to train a new model\")\n",
    "    origindf = ss.read.parquet(\"/Users/mineryang/Desktop/Team09_GamePopularity/RatingModelTraining/cleandata.parquet\")\n",
    "    training, test = origindf.randomSplit([p1,p2])\n",
    "    model = pipeline.fit(training)\n",
    "    print(\"training completed\")\n",
    "    # compute accuracy on the test set\n",
    "    predictions = model.transform(test)\n",
    "    evaluator = MulticlassClassificationEvaluator(labelCol=\"label\", predictionCol=\"prediction\",\n",
    "                                              metricName=\"accuracy\")\n",
    "    accuracy = evaluator.evaluate(predictions)\n",
    "    return MyModel(model,accuracy)"
   ]
  },
  {
   "cell_type": "code",
   "execution_count": 7,
   "metadata": {},
   "outputs": [],
   "source": [
    "from pyspark.sql.functions import split\n",
    "def parseData(df):\n",
    "    df1 = df.withColumn('developer', split(df[\"developer\"], \";\"))\n",
    "    df2 = df1.withColumn('publisher', split(df[\"publisher\"], \";\"))\n",
    "    df3 = df2.withColumn(\"platforms\", split(df[\"platforms\"], \";\"))\n",
    "    df4 = df3.withColumn(\"categories\", split(df[\"categories\"], \";\"))\n",
    "    df5 = df4.withColumn(\"tags\", split(df[\"tags\"], \";\"))\n",
    "    return df5"
   ]
  },
  {
   "cell_type": "code",
   "execution_count": 8,
   "metadata": {},
   "outputs": [],
   "source": [
    "def parseResult(df,colname):\n",
    "    prow = df.select(df[colname]).collect()\n",
    "    res = [r[colname] for r in prow][0]\n",
    "    return res"
   ]
  },
  {
   "cell_type": "code",
   "execution_count": 9,
   "metadata": {},
   "outputs": [
    {
     "name": "stdout",
     "output_type": "stream",
     "text": [
      "Test set accuracy = 0.7\n"
     ]
    }
   ],
   "source": [
    "# init a basic pretict model\n",
    "mypath = \"/Users/mineryang/Desktop/Team09_GamePopularity/RatingModelTraining/best_model\"\n",
    "loadmodel = PipelineModel.load(mypath)\n",
    "predictmodel = MyModel(loadmodel, 0.7)\n",
    "# predictmodel = trainNew(0.6,0.4)\n",
    "print(\"Test set accuracy = \" + str(predictmodel.accuracy))"
   ]
  },
  {
   "cell_type": "code",
   "execution_count": 10,
   "metadata": {},
   "outputs": [],
   "source": [
    "schema = t.StructType(\n",
    "    [\n",
    "        t.StructField(\"developer\",t.StringType()),\n",
    "        t.StructField(\"publisher\",t.StringType()),\n",
    "        t.StructField(\"platforms\",t.StringType()),\n",
    "        t.StructField(\"categories\",t.StringType()),\n",
    "        t.StructField(\"tags\",t.StringType()),\n",
    "        t.StructField(\"price\",t.DoubleType()),\n",
    "    ]\n",
    ")"
   ]
  },
  {
   "cell_type": "code",
   "execution_count": 11,
   "metadata": {},
   "outputs": [],
   "source": [
    "# start real time server\n",
    "from flask import Flask\n",
    "from flask import request, redirect, url_for\n",
    "from flask_cors import CORS\n",
    "from flask_restful import reqparse, abort, Api, Resource\n",
    "\n",
    "# create a Flask instance\n",
    "app = Flask(__name__)\n",
    "CORS(app)\n",
    "api = Api(app)"
   ]
  },
  {
   "cell_type": "code",
   "execution_count": 12,
   "metadata": {},
   "outputs": [
    {
     "data": {
      "text/plain": [
       "<flask_restful.reqparse.RequestParser at 0x11427be50>"
      ]
     },
     "execution_count": 12,
     "metadata": {},
     "output_type": "execute_result"
    }
   ],
   "source": [
    "# create a parser\n",
    "# fill a parser with information about arguments \n",
    "parser = reqparse.RequestParser()\n",
    "parser.add_argument(\"developer\",type=str)\n",
    "parser.add_argument(\"publisher\",type=str)\n",
    "parser.add_argument(\"platforms\",type=str)\n",
    "parser.add_argument(\"categories\",type=str)\n",
    "parser.add_argument(\"tags\",type=str)\n",
    "parser.add_argument(\"price\",type=float)"
   ]
  },
  {
   "cell_type": "code",
   "execution_count": 13,
   "metadata": {},
   "outputs": [
    {
     "data": {
      "text/plain": [
       "<flask_restful.reqparse.RequestParser at 0x11428b5d0>"
      ]
     },
     "execution_count": 13,
     "metadata": {},
     "output_type": "execute_result"
    }
   ],
   "source": [
    "# create another parser\n",
    "parser2 = reqparse.RequestParser()\n",
    "parser2.add_argument(\"command\",type=str)\n",
    "parser2.add_argument(\"p1\",type=float)\n",
    "parser2.add_argument(\"p2\",type=float)"
   ]
  },
  {
   "cell_type": "code",
   "execution_count": 14,
   "metadata": {},
   "outputs": [],
   "source": [
    "@app.route('/')\n",
    "def index():\n",
    "    return \"welcome\"\n",
    "\n",
    "@app.route('/init',methods=['GET'])\n",
    "def init():\n",
    "    return jsontext\n",
    "\n",
    "@app.route('/predict',methods=['GET', 'POST'])\n",
    "def predict():\n",
    "    if request.method == 'POST':\n",
    "        args = parser.parse_args()\n",
    "        dev = args[\"developer\"]\n",
    "        pub = args[\"publisher\"]\n",
    "        plt = args[\"platforms\"]\n",
    "        cat = args[\"categories\"]\n",
    "        tag = args[\"tags\"]\n",
    "        prc = args[\"price\"]\n",
    "        \n",
    "        X = {\n",
    "            'developer':dev,\n",
    "            'publisher':pub,\n",
    "            'platforms':plt,\n",
    "            'categories':cat,\n",
    "            'tags':tag,\n",
    "            'price':prc\n",
    "        }\n",
    "        df=ss.createDataFrame([X],schema)\n",
    "        df1 = parseData(df)\n",
    "        df1.show()\n",
    "        prediction = predictmodel.newmodel.transform(df1)\n",
    "        label = str(parseResult(prediction,'prediction'))\n",
    "        res = label+\",\"+str(predictmodel.accuracy)\n",
    "        print(\"result: \"+ label+\", accuracy: \"+ str(predictmodel.accuracy))\n",
    "        return str(res)\n",
    "    else:\n",
    "        return \"in get situation\"\n",
    "\n",
    "@app.route('/train',methods=['GET', 'POST'])\n",
    "def train():\n",
    "    if request.method == 'POST':\n",
    "        args = parser2.parse_args()\n",
    "        cmd = args[\"command\"]\n",
    "        p1 = args[\"p1\"]\n",
    "        p2 = args[\"p2\"]\n",
    "        if cmd == 'true':\n",
    "            mymodel = trainNew(p1,p2)\n",
    "            predictmodel.newmodel = mymodel.newmodel\n",
    "            predictmodel.accuracy = mymodel.accuracy\n",
    "            print(\"new model accuracy: \"+ str(predictmodel.accuracy))\n",
    "        return str(predictmodel.accuracy)\n",
    "    else:\n",
    "        return \"in get situation\""
   ]
  },
  {
   "cell_type": "code",
   "execution_count": null,
   "metadata": {},
   "outputs": [
    {
     "name": "stdout",
     "output_type": "stream",
     "text": [
      " * Serving Flask app \"__main__\" (lazy loading)\n",
      " * Environment: production\n",
      "   WARNING: This is a development server. Do not use it in a production deployment.\n",
      "   Use a production WSGI server instead.\n",
      " * Debug mode: on\n"
     ]
    },
    {
     "name": "stderr",
     "output_type": "stream",
     "text": [
      " * Running on http://127.0.0.1:5000/ (Press CTRL+C to quit)\n",
      "127.0.0.1 - - [14/Apr/2020 16:27:28] \"OPTIONS /predict HTTP/1.1\" 200 -\n"
     ]
    },
    {
     "name": "stdout",
     "output_type": "stream",
     "text": [
      "+---------+---------+--------------------+--------------------+--------------------+-----+\n",
      "|developer|publisher|           platforms|          categories|                tags|price|\n",
      "+---------+---------+--------------------+--------------------+--------------------+-----+\n",
      "|  [Valve]|  [Valve]|[linux, mac, wind...|[Multi-player, Cr...|[Massively Multip...| 7.19|\n",
      "+---------+---------+--------------------+--------------------+--------------------+-----+\n",
      "\n"
     ]
    },
    {
     "name": "stderr",
     "output_type": "stream",
     "text": [
      "127.0.0.1 - - [14/Apr/2020 16:27:31] \"POST /predict HTTP/1.1\" 200 -\n"
     ]
    },
    {
     "name": "stdout",
     "output_type": "stream",
     "text": [
      "result: 3.0, accuracy: 0.7\n"
     ]
    },
    {
     "name": "stderr",
     "output_type": "stream",
     "text": [
      "127.0.0.1 - - [14/Apr/2020 16:28:00] \"OPTIONS /train HTTP/1.1\" 200 -\n"
     ]
    },
    {
     "name": "stdout",
     "output_type": "stream",
     "text": [
      "begin to train a new model\n",
      "training completed\n"
     ]
    },
    {
     "name": "stderr",
     "output_type": "stream",
     "text": [
      "127.0.0.1 - - [14/Apr/2020 16:29:19] \"POST /train HTTP/1.1\" 200 -\n"
     ]
    },
    {
     "name": "stdout",
     "output_type": "stream",
     "text": [
      "new model accuracy: 0.6981225296442688\n"
     ]
    },
    {
     "name": "stderr",
     "output_type": "stream",
     "text": [
      "127.0.0.1 - - [14/Apr/2020 16:30:03] \"OPTIONS /predict HTTP/1.1\" 200 -\n"
     ]
    },
    {
     "name": "stdout",
     "output_type": "stream",
     "text": [
      "+---------+---------+--------------------+--------------------+---------------+-----+\n",
      "|developer|publisher|           platforms|          categories|           tags|price|\n",
      "+---------+---------+--------------------+--------------------+---------------+-----+\n",
      "|  [Valve]|  [Valve]|[linux, mac, wind...|[Multi-player, Cr...|[Multiplayer, ]| 7.09|\n",
      "+---------+---------+--------------------+--------------------+---------------+-----+\n",
      "\n"
     ]
    },
    {
     "name": "stderr",
     "output_type": "stream",
     "text": [
      "127.0.0.1 - - [14/Apr/2020 16:30:04] \"POST /predict HTTP/1.1\" 200 -\n"
     ]
    },
    {
     "name": "stdout",
     "output_type": "stream",
     "text": [
      "result: 3.0, accuracy: 0.6981225296442688\n"
     ]
    }
   ],
   "source": [
    "if __name__ == \"__main__\":\n",
    "    app.run(debug=True, use_reloader=False)"
   ]
  },
  {
   "cell_type": "code",
   "execution_count": null,
   "metadata": {},
   "outputs": [],
   "source": [
    "# import json\n",
    "# def readfeature(fpath):\n",
    "#     f = open(fpath, \"r\")\n",
    "#     return f.read()\n",
    "# devstr = readfeature(\"/Users/mineryang/Desktop/Team09_GamePopularity/RatingModelTraining/selectionFile/select_developer.txt\")\n",
    "# pubstr = readfeature(\"/Users/mineryang/Desktop/Team09_GamePopularity/RatingModelTraining/selectionFile/select_publisher.txt\")\n",
    "# pltstr = readfeature(\"/Users/mineryang/Desktop/Team09_GamePopularity/RatingModelTraining/selectionFile/select_platforms.txt\")\n",
    "# catstr = readfeature(\"/Users/mineryang/Desktop/Team09_GamePopularity/RatingModelTraining/selectionFile/select_categories.txt\")\n",
    "# tagstr = readfeature(\"/Users/mineryang/Desktop/Team09_GamePopularity/RatingModelTraining/selectionFile/select_tags.txt\")\n",
    "# # jsontext = json.dumps({'devstr': devstr, \n",
    "# #                           'pubstr': pubstr, \n",
    "# #                           'pltstr': pltstr,\n",
    "# #                           'catstr': catstr,\n",
    "# #                           'tagstr': tagstr})\n",
    "\n",
    "# print(devstr.split(\";\"))"
   ]
  }
 ],
 "metadata": {
  "kernelspec": {
   "display_name": "Python 3",
   "language": "python",
   "name": "python3"
  },
  "language_info": {
   "codemirror_mode": {
    "name": "ipython",
    "version": 3
   },
   "file_extension": ".py",
   "mimetype": "text/x-python",
   "name": "python",
   "nbconvert_exporter": "python",
   "pygments_lexer": "ipython3",
   "version": "3.7.4"
  }
 },
 "nbformat": 4,
 "nbformat_minor": 2
}
